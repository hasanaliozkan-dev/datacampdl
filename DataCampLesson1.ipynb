{
  "nbformat": 4,
  "nbformat_minor": 0,
  "metadata": {
    "colab": {
      "name": "DataCampLesson1.ipynb",
      "provenance": [],
      "collapsed_sections": [
        "97oYCqp-kj6l",
        "Vxa885PUlXPb",
        "7JPts6pdl-Qu",
        "BYbnseTTnDmV",
        "4c6Ct7CwsMwt",
        "EWK6BZakvKZI",
        "7eB8PV2rwMuy",
        "Kf1RBF5_zI2e"
      ],
      "authorship_tag": "ABX9TyODAnvEq4xphkadycXMkfg1",
      "include_colab_link": true
    },
    "kernelspec": {
      "name": "python3",
      "display_name": "Python 3"
    },
    "language_info": {
      "name": "python"
    }
  },
  "cells": [
    {
      "cell_type": "markdown",
      "metadata": {
        "id": "view-in-github",
        "colab_type": "text"
      },
      "source": [
        "<a href=\"https://colab.research.google.com/github/hasanaliozkan-dev/datacampdl/blob/main/DataCampLesson1.ipynb\" target=\"_parent\"><img src=\"https://colab.research.google.com/assets/colab-badge.svg\" alt=\"Open In Colab\"/></a>"
      ]
    },
    {
      "cell_type": "markdown",
      "source": [
        "### ***Forward Propogation***"
      ],
      "metadata": {
        "id": "97oYCqp-kj6l"
      }
    },
    {
      "cell_type": "code",
      "execution_count": 1,
      "metadata": {
        "colab": {
          "base_uri": "https://localhost:8080/"
        },
        "id": "peESNhFriCwW",
        "outputId": "b79e3b84-003a-474f-808d-83e43f9f57b7"
      },
      "outputs": [
        {
          "output_type": "stream",
          "name": "stdout",
          "text": [
            "[5 1]\n",
            "9\n"
          ]
        }
      ],
      "source": [
        "import numpy as np\n",
        "input_data = np.array([2,3])\n",
        "weights = {\"node_0\":np.array([1,1]),\n",
        "           \"node_1\":np.array([-1,1]),\n",
        "           \"output\":np.array([2,-1])}\n",
        "node_0_value = (input_data*weights['node_0']).sum()\n",
        "node_1_value = (input_data*weights['node_1']).sum()\n",
        "hidden_layer_values = np.array([node_0_value,node_1_value])\n",
        "print(hidden_layer_values)\n",
        "output = (hidden_layer_values*weights['output']).sum()\n",
        "print(output)"
      ]
    },
    {
      "cell_type": "markdown",
      "source": [
        "### ***The Rectified Linear Activation Function***\n",
        "As Dan explained to you in the video, an \"activation function\" is a function applied at each node. It converts the node's input into some output.\n",
        "\n",
        "The rectified linear activation function (called ReLU) has been shown to lead to very high-performance networks. This function takes a single number as an input, returning 0 if the input is negative, and the input if the input is positive.\n",
        "\n",
        "Here are some examples:\n",
        "relu(3) = 3\n",
        "relu(-3) = 0"
      ],
      "metadata": {
        "id": "Vxa885PUlXPb"
      }
    },
    {
      "cell_type": "code",
      "source": [
        "def relu(input):\n",
        "    '''Define your relu activation function here'''\n",
        "    # Calculate the value for the output of the relu function: output\n",
        "    output = max(0,input)\n",
        "    \n",
        "    # Return the value just calculated\n",
        "    return(output)\n",
        "\n",
        "# Calculate node 0 value: node_0_output\n",
        "node_0_input = (input_data * weights['node_0']).sum()\n",
        "node_0_output = relu(node_0_input) \n",
        "\n",
        "# Calculate node 1 value: node_1_output\n",
        "node_1_input = (input_data * weights['node_1']).sum()\n",
        "node_1_output = relu(node_1_input)\n",
        "\n",
        "# Put node values into array: hidden_layer_outputs\n",
        "hidden_layer_outputs = np.array([node_0_output, node_1_output])\n",
        "\n",
        "# Calculate model output (do not apply relu)\n",
        "model_output = (hidden_layer_outputs * weights['output']).sum()\n",
        "\n",
        "# Print model output\n",
        "print(model_output)"
      ],
      "metadata": {
        "colab": {
          "base_uri": "https://localhost:8080/"
        },
        "id": "ikfZGE_lkyfo",
        "outputId": "2ba18804-a14c-41bc-ca09-85fec82c57e1"
      },
      "execution_count": 2,
      "outputs": [
        {
          "output_type": "stream",
          "name": "stdout",
          "text": [
            "9\n"
          ]
        }
      ]
    },
    {
      "cell_type": "markdown",
      "source": [
        "### ***Applying the network to many observations/rows of data***\n",
        "You'll now define a function called predict_with_network() which will generate predictions for multiple data observations, which are pre-loaded as input_data. As before, weights are also pre-loaded. In addition, the relu() function you defined in the previous exercise has been pre-loaded."
      ],
      "metadata": {
        "id": "7JPts6pdl-Qu"
      }
    },
    {
      "cell_type": "code",
      "source": [
        "# Define predict_with_network()\n",
        "def predict_with_network(input_data_row, weights):\n",
        "\n",
        "    node_0_input = (input_data_row * weights['node_0']).sum()\n",
        "    node_0_output = relu(node_0_input) \n",
        "\n",
        "    node_1_input = (input_data_row * weights['node_1']).sum()\n",
        "    node_1_output = relu(node_1_input) \n",
        "\n",
        "    # Put node values into array: hidden_layer_outputs\n",
        "    hidden_layer_outputs = np.array([node_0_output, node_1_output])\n",
        "    \n",
        "    # Calculate model output\n",
        "    input_to_final_layer = (hidden_layer_outputs * weights['output']).sum()\n",
        "    model_output = relu(input_to_final_layer)\n",
        "    \n",
        "    # Return model output\n",
        "    return(model_output)\n",
        "\n",
        "\n",
        "# Create empty list to store prediction results\n",
        "results = []\n",
        "for input_data_row in input_data:\n",
        "    # Append prediction to results\n",
        "    results.append(predict_with_network(input_data_row, weights))\n",
        "\n",
        "# Print results\n",
        "print(results)\n",
        "        "
      ],
      "metadata": {
        "colab": {
          "base_uri": "https://localhost:8080/"
        },
        "id": "jBldix81mAdL",
        "outputId": "93b0a3b9-2120-4620-be4d-01224e8a4644"
      },
      "execution_count": 3,
      "outputs": [
        {
          "output_type": "stream",
          "name": "stdout",
          "text": [
            "[8, 12]\n"
          ]
        }
      ]
    },
    {
      "cell_type": "markdown",
      "source": [
        "### ***Multi-layer neural networks***\n",
        "In this exercise, you'll write code to do forward propagation for a neural network with 2 hidden layers. Each hidden layer has two nodes. The input data has been preloaded as input_data. The nodes in the first hidden layer are called node_0_0 and node_0_1. Their weights are pre-loaded as weights['node_0_0'] and weights['node_0_1'] respectively.\n",
        "\n",
        "The nodes in the second hidden layer are called node_1_0 and node_1_1. Their weights are pre-loaded as weights['node_1_0'] and weights['node_1_1'] respectively.\n",
        "\n",
        "We then create a model output from the hidden nodes using weights pre-loaded as weights['output'].<br>\n",
        "![image.png](data:image/png;base64,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)"
      ],
      "metadata": {
        "id": "BYbnseTTnDmV"
      }
    },
    {
      "cell_type": "code",
      "source": [
        "def predict_with_network(input_data):\n",
        "    # Calculate node 0 in the first hidden layer\n",
        "    node_0_0_input = (input_data* weights['node_0_0']).sum()\n",
        "    node_0_0_output = relu(node_0_0_input)\n",
        "\n",
        "    # Calculate node 1 in the first hidden layer\n",
        "    node_0_1_input = (input_data* weights['node_0_1']).sum()\n",
        "    node_0_1_output = relu(node_0_1_input)\n",
        "\n",
        "    # Put node values into array: hidden_0_outputs\n",
        "    hidden_0_outputs = np.array([node_0_0_output, node_0_1_output])\n",
        "    \n",
        "    # Calculate node 0 in the second hidden layer\n",
        "    node_1_0_input = (hidden_0_outputs* weights['node_1_0']).sum()\n",
        "    node_1_0_output = relu(node_1_0_input)\n",
        "\n",
        "    # Calculate node 1 in the second hidden layer\n",
        "    node_1_1_input = (hidden_0_outputs* weights['node_1_1']).sum()\n",
        "    node_1_1_output = relu(node_1_1_input)\n",
        "    # Put node values into array: hidden_1_outputs\n",
        "    hidden_1_outputs = np.array([node_1_0_output, node_1_1_output])\n",
        "\n",
        "    # Calculate model output: model_output\n",
        "    model_output = (hidden_1_outputs*weights['output']).sum()\n",
        "    \n",
        "    # Return model_output\n",
        "    return(model_output)\n",
        "\n",
        "output = predict_with_network(input_data)\n",
        "print(output)"
      ],
      "metadata": {
        "id": "E3_DpMtlnCxc"
      },
      "execution_count": null,
      "outputs": []
    },
    {
      "cell_type": "markdown",
      "source": [
        "### ***Coding how weight changes affect accuracy***\n",
        "Now you'll get to change weights in a real network and see how they affect model accuracy!\n",
        "\n",
        "Have a look at the following neural network:\n",
        "\n",
        "![ch2ex4.png](data:image/png;base64,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)\n",
        "\n",
        "Its weights have been pre-loaded as weights_0. Your task in this exercise is to update a single weight in weights_0 to create weights_1, which gives a perfect prediction (in which the predicted value is equal to target_actual: 3).\n",
        "\n",
        "Use a pen and paper if necessary to experiment with different combinations. You'll use the predict_with_network() function, which takes an array of data as the first argument, and weights as the second argument."
      ],
      "metadata": {
        "id": "4c6Ct7CwsMwt"
      }
    },
    {
      "cell_type": "code",
      "source": [
        "# The data point you will make a prediction for\n",
        "input_data = np.array([0, 3])\n",
        "\n",
        "# Sample weights\n",
        "weights_0 = {'node_0': [2, 1],\n",
        "             'node_1': [1, 2],\n",
        "             'output': [1, 1]\n",
        "            }\n",
        "\n",
        "# The actual target value, used to calculate the error\n",
        "target_actual = 3\n",
        "\n",
        "# Make prediction using original weights\n",
        "model_output_0 = predict_with_network(input_data, weights_0)\n",
        "\n",
        "# Calculate error: error_0\n",
        "error_0 = model_output_0 - target_actual\n",
        "\n",
        "# Create weights that cause the network to make perfect prediction (3): weights_1\n",
        "\"\"\"weights_1 = {'node_0': [2, 1],\n",
        "             'node_1': [1, 0],\n",
        "             'output': [1, 1]\n",
        "            }\"\"\"\n",
        "\n",
        "weights_1 = {'node_0': [2, 1],\n",
        "             'node_1': [1, 2],\n",
        "             'output': [1, 0]\n",
        "            }\n",
        "\n",
        "# Make prediction using new weights: model_output_1\n",
        "model_output_1 = predict_with_network(input_data, weights_1)\n",
        "\n",
        "# Calculate error: error_1\n",
        "error_1 = model_output_1 - target_actual\n",
        "\n",
        "# Print error_0 and error_1\n",
        "print(error_0)\n",
        "print(error_1)\n"
      ],
      "metadata": {
        "colab": {
          "base_uri": "https://localhost:8080/"
        },
        "id": "6frGjCi1sMh0",
        "outputId": "4a4034f5-df81-4030-dc46-6502df4d3627"
      },
      "execution_count": 4,
      "outputs": [
        {
          "output_type": "stream",
          "name": "stdout",
          "text": [
            "6\n",
            "0\n"
          ]
        }
      ]
    },
    {
      "cell_type": "markdown",
      "source": [
        "### ***Scaling up to multiple data points***\n",
        "You've seen how different weights will have different accuracies on a single prediction. But usually, you'll want to measure model accuracy on many points. You'll now write code to compare model accuracies for two different sets of weights, which have been stored as weights_0 and weights_1.\n",
        "\n",
        "input_data is a list of arrays. Each item in that list contains the data to make a single prediction. target_actuals is a list of numbers. Each item in that list is the actual value we are trying to predict.\n",
        "\n",
        "In this exercise, you'll use the mean_squared_error() function from sklearn.metrics. It takes the true values and the predicted values as arguments.\n",
        "\n",
        "You'll also use the preloaded predict_with_network() function, which takes an array of data as the first argument, and weights as the second argument."
      ],
      "metadata": {
        "id": "EWK6BZakvKZI"
      }
    },
    {
      "cell_type": "code",
      "source": [
        "from sklearn.metrics import mean_squared_error\n",
        "\n",
        "# Create model_output_0 \n",
        "model_output_0 = []\n",
        "# Create model_output_1\n",
        "model_output_1 = []\n",
        "\n",
        "# Loop over input_data\n",
        "for row in input_data:\n",
        "    # Append prediction to model_output_0\n",
        "    model_output_0.append(predict_with_network(row,weights_0))\n",
        "    \n",
        "    # Append prediction to model_output_1\n",
        "    model_output_1.append(predict_with_network(row,weights_1))\n",
        "\n",
        "# Calculate the mean squared error for model_output_0: mse_0\n",
        "mse_0 = mean_squared_error(target_actuals,model_output_0)\n",
        "\n",
        "# Calculate the mean squared error for model_output_1: mse_1\n",
        "mse_1 = mean_squared_error(target_actuals,model_output_1)\n",
        "\n",
        "# Print mse_0 and mse_1\n",
        "print(\"Mean squared error with weights_0: %f\" %mse_0)\n",
        "print(\"Mean squared error with weights_1: %f\" %mse_1)\n"
      ],
      "metadata": {
        "id": "lppu-llZvK4h"
      },
      "execution_count": 4,
      "outputs": []
    },
    {
      "cell_type": "markdown",
      "source": [
        "### ***Calculating slopes***\n",
        "You're now going to practice calculating slopes. When plotting the mean-squared error loss function against predictions, the slope is 2 * x * (xb-y), or 2 * input_data * error. Note that x and b may have multiple numbers (x is a vector for each data point, and b is a vector). In this case, the output will also be a vector, which is exactly what you want.\n",
        "\n",
        "You're ready to write the code to calculate this slope while using a single data point. You'll use pre-defined weights called weights as well as data for a single point called input_data. The actual value of the target you want to predict is stored in target."
      ],
      "metadata": {
        "id": "7eB8PV2rwMuy"
      }
    },
    {
      "cell_type": "code",
      "source": [
        "# Calculate the predictions: preds\n",
        "preds = (weights * input_data).sum()\n",
        "\n",
        "# Calculate the error: error\n",
        "error = preds - target\n",
        "\n",
        "# Calculate the slope: slope\n",
        "slope = input_data * error * 2\n",
        "\n",
        "# Print the slope\n",
        "print(slope)\n"
      ],
      "metadata": {
        "colab": {
          "base_uri": "https://localhost:8080/",
          "height": 240
        },
        "id": "KjJH3-f5wNdX",
        "outputId": "094dcf27-2380-4e7c-9adf-98471ab94c2e"
      },
      "execution_count": 6,
      "outputs": [
        {
          "output_type": "error",
          "ename": "TypeError",
          "evalue": "ignored",
          "traceback": [
            "\u001b[0;31m---------------------------------------------------------------------------\u001b[0m",
            "\u001b[0;31mTypeError\u001b[0m                                 Traceback (most recent call last)",
            "\u001b[0;32m<ipython-input-6-5604ce7960e0>\u001b[0m in \u001b[0;36m<module>\u001b[0;34m()\u001b[0m\n\u001b[1;32m      1\u001b[0m \u001b[0;31m# Calculate the predictions: preds\u001b[0m\u001b[0;34m\u001b[0m\u001b[0;34m\u001b[0m\u001b[0;34m\u001b[0m\u001b[0m\n\u001b[0;32m----> 2\u001b[0;31m \u001b[0mpreds\u001b[0m \u001b[0;34m=\u001b[0m \u001b[0;34m(\u001b[0m\u001b[0mweights\u001b[0m \u001b[0;34m*\u001b[0m \u001b[0minput_data\u001b[0m\u001b[0;34m)\u001b[0m\u001b[0;34m.\u001b[0m\u001b[0msum\u001b[0m\u001b[0;34m(\u001b[0m\u001b[0;34m)\u001b[0m\u001b[0;34m\u001b[0m\u001b[0;34m\u001b[0m\u001b[0m\n\u001b[0m\u001b[1;32m      3\u001b[0m \u001b[0;34m\u001b[0m\u001b[0m\n\u001b[1;32m      4\u001b[0m \u001b[0;31m# Calculate the error: error\u001b[0m\u001b[0;34m\u001b[0m\u001b[0;34m\u001b[0m\u001b[0;34m\u001b[0m\u001b[0m\n\u001b[1;32m      5\u001b[0m \u001b[0merror\u001b[0m \u001b[0;34m=\u001b[0m \u001b[0mpreds\u001b[0m \u001b[0;34m-\u001b[0m \u001b[0mtarget\u001b[0m\u001b[0;34m\u001b[0m\u001b[0;34m\u001b[0m\u001b[0m\n",
            "\u001b[0;31mTypeError\u001b[0m: unsupported operand type(s) for *: 'dict' and 'int'"
          ]
        }
      ]
    },
    {
      "cell_type": "markdown",
      "source": [
        "### ***Improving model weights***\n",
        "Hurray! You've just calculated the slopes you need. Now it's time to use those slopes to improve your model. If you add the slopes to your weights, you will move in the right direction. However, it's possible to move too far in that direction. So you will want to take a small step in that direction first, using a lower learning rate, and verify that the model is improving.\n",
        "\n",
        "The weights have been pre-loaded as weights, the actual value of the target as target, and the input data as input_data. The predictions from the initial weights are stored as preds."
      ],
      "metadata": {
        "id": "Kf1RBF5_zI2e"
      }
    },
    {
      "cell_type": "code",
      "source": [
        "# Set the learning rate: learning_rate\n",
        "learning_rate = 0.01\n",
        "\n",
        "# Calculate the predictions: preds\n",
        "preds = (weights * input_data).sum()\n",
        "\n",
        "# Calculate the error: error\n",
        "error = preds - target\n",
        "\n",
        "# Calculate the slope: slope\n",
        "slope = 2 * input_data * error\n",
        "\n",
        "# Update the weights: weights_updated\n",
        "weights_updated = weights - (learning_rate*slope)\n",
        "\n",
        "# Get updated predictions: preds_updated\n",
        "preds_updated = (weights_updated*input_data).sum()\n",
        "\n",
        "# Calculate updated error: error_updated\n",
        "error_updated = preds_updated-target\n",
        "\n",
        "# Print the original error\n",
        "print(error)\n",
        "\n",
        "# Print the updated error\n",
        "print(error_updated)\n"
      ],
      "metadata": {
        "id": "nkLq7-TrzHxX"
      },
      "execution_count": null,
      "outputs": []
    },
    {
      "cell_type": "markdown",
      "source": [
        "### ***Making multiple updates to weights***\n",
        "You're now going to make multiple updates so you can dramatically improve your model weights, and see how the predictions improve with each update.\n",
        "\n",
        "To keep your code clean, there is a pre-loaded get_slope() function that takes input_data, target, and weights as arguments. There is also a get_mse() function that takes the same arguments. The input_data, target, and weights have been pre-loaded.\n",
        "\n",
        "This network does not have any hidden layers, and it goes directly from the input (with 3 nodes) to an output node. Note that weights is a single array.\n",
        "\n",
        "We have also pre-loaded matplotlib.pyplot, and the error history will be plotted after you have done your gradient descent steps."
      ],
      "metadata": {
        "id": "HQYEYujg0ivE"
      }
    },
    {
      "cell_type": "code",
      "source": [
        "n_updates = 20\n",
        "mse_hist = []\n",
        "\n",
        "# Iterate over the number of updates\n",
        "for i in range(n_updates):\n",
        "    # Calculate the slope: slope\n",
        "    slope = get_slope(input_data, target, weights)\n",
        "    \n",
        "    # Update the weights: weights\n",
        "    weights = weights - (0.01 * slope)\n",
        "    \n",
        "    # Calculate mse with new weights: mse\n",
        "    mse = get_mse(input_data, target, weights)\n",
        "    \n",
        "    # Append the mse to mse_hist\n",
        "    mse_hist.append(mse)\n",
        "\n",
        "# Plot the mse history\n",
        "plt.plot(mse_hist)\n",
        "plt.xlabel('Iterations')\n",
        "plt.ylabel('Mean Squared Error')\n",
        "plt.show()"
      ],
      "metadata": {
        "id": "uVvQgWeGy_E-"
      },
      "execution_count": null,
      "outputs": []
    },
    {
      "cell_type": "markdown",
      "source": [
        ""
      ],
      "metadata": {
        "id": "TMyxZjmA1pi6"
      }
    },
    {
      "cell_type": "code",
      "source": [
        ""
      ],
      "metadata": {
        "id": "ZaCCgGF41lTw"
      },
      "execution_count": null,
      "outputs": []
    }
  ]
}