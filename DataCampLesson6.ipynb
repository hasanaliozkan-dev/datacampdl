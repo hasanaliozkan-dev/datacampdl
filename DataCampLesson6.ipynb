{
  "nbformat": 4,
  "nbformat_minor": 0,
  "metadata": {
    "colab": {
      "name": "DataCampLesson6.ipynb",
      "provenance": [],
      "collapsed_sections": [],
      "authorship_tag": "ABX9TyPfqIaj43da0DzAB/P0pmX8",
      "include_colab_link": true
    },
    "kernelspec": {
      "name": "python3",
      "display_name": "Python 3"
    },
    "language_info": {
      "name": "python"
    }
  },
  "cells": [
    {
      "cell_type": "markdown",
      "metadata": {
        "id": "view-in-github",
        "colab_type": "text"
      },
      "source": [
        "<a href=\"https://colab.research.google.com/github/hasanaliozkan-dev/datacampdl/blob/main/DataCampLesson6.ipynb\" target=\"_parent\"><img src=\"https://colab.research.google.com/assets/colab-badge.svg\" alt=\"Open In Colab\"/></a>"
      ]
    },
    {
      "cell_type": "markdown",
      "source": [
        "### ***Input layers***\n",
        "The first step in creating a neural network model is to define the Input layer. This layer takes in raw data, usually in the form of numpy arrays. The shape of the Input layer defines how many variables your neural network will use. For example, if the input data has 10 columns, you define an Input layer with a shape of (10,).\n",
        "\n",
        "In this case, you are only using one input in your network.\n",
        "\n",
        "This course touches on a lot of concepts you may have forgotten, so if you ever need a quick refresher, download the [Keras Cheat Sheet](https://datacamp-community-prod.s3.amazonaws.com/94fc681d-5422-40cb-a129-2218e9522f17) and keep it handy!\n",
        "\n"
      ],
      "metadata": {
        "id": "NU35zHfGzG_b"
      }
    },
    {
      "cell_type": "code",
      "execution_count": null,
      "metadata": {
        "id": "ZC6h8KMrzGUl"
      },
      "outputs": [],
      "source": [
        "# Import Input from keras.layers\n",
        "from keras.layers import Input\n",
        "\n",
        "# Create an input layer of shape 1\n",
        "input_tensor = Input(shape=(1,))"
      ]
    },
    {
      "cell_type": "markdown",
      "source": [
        "### ***Dense layers***\n",
        "Once you have an Input layer, the next step is to add a Dense layer.\n",
        "\n",
        "Dense layers learn a weight matrix, where the first dimension of the matrix is the dimension of the input data, and the second dimension is the dimension of the output data. Recall that your Input layer has a shape of 1. In this case, your output layer will also have a shape of 1. This means that the Dense layer will learn a 1x1 weight matrix.\n",
        "\n",
        "In this exercise, you will add a dense layer to your model, after the input layer."
      ],
      "metadata": {
        "id": "MeFhNP1XziWw"
      }
    },
    {
      "cell_type": "code",
      "source": [
        "# Load layers\n",
        "from keras.layers import Input, Dense\n",
        "\n",
        "# Input layer\n",
        "input_tensor = Input(shape=(1,))\n",
        "\n",
        "# Dense layer\n",
        "output_layer = Dense(1)\n",
        "\n",
        "# Connect the dense layer to the input_tensor\n",
        "output_tensor = output_layer(input_tensor)"
      ],
      "metadata": {
        "id": "CNo7kWrozoVD"
      },
      "execution_count": null,
      "outputs": []
    },
    {
      "cell_type": "markdown",
      "source": [
        "### ***Output layers***\n",
        "Output layers are simply Dense layers! Output layers are used to reduce the dimension of the inputs to the dimension of the outputs. You'll learn more about output dimensions in chapter 4, but for now, you'll always use a single output in your neural networks, which is equivalent to Dense(1) or a dense layer with a single unit."
      ],
      "metadata": {
        "id": "_VAoQrqSzv5h"
      }
    },
    {
      "cell_type": "code",
      "source": [
        "# Load layers\n",
        "from keras.layers import Input,Dense\n",
        "\n",
        "# Input layer\n",
        "input_tensor = Input(shape=(1,))\n",
        "\n",
        "# Create a dense layer and connect the dense layer to the input_tensor in one step\n",
        "# Note that we did this in 2 steps in the previous exercise, but are doing it in one step now\n",
        "output_tensor = Dense(1,)(input_tensor)"
      ],
      "metadata": {
        "id": "vqlLRQJdzy6r"
      },
      "execution_count": null,
      "outputs": []
    },
    {
      "cell_type": "markdown",
      "source": [
        "### ***Build a model***\n",
        "Once you've defined an input layer and an output layer, you can build a Keras model. The model object is how you tell Keras where the model starts and stops: where data comes in and where predictions come out."
      ],
      "metadata": {
        "id": "nu-LdFTP0ChX"
      }
    },
    {
      "cell_type": "code",
      "source": [
        "# Input/dense/output layers\n",
        "from keras.layers import Input, Dense\n",
        "input_tensor = Input(shape=(1,))\n",
        "output_tensor = Dense(1)(input_tensor)\n",
        "\n",
        "# Build the model\n",
        "from keras.models import Model\n",
        "model = Model(input_tensor, output_tensor)"
      ],
      "metadata": {
        "id": "890PctXV0Tjt"
      },
      "execution_count": null,
      "outputs": []
    },
    {
      "cell_type": "markdown",
      "source": [
        "### ***Compile a model***\n",
        "The final step in creating a model is compiling it. Now that you've created a model, you have to compile it before you can fit it to data. This finalizes your model, freezes all its settings, and prepares it to meet some data!\n",
        "\n",
        "During compilation, you specify the optimizer to use for fitting the model to the data, and a loss function. 'adam' is a good default optimizer to use, and will generally work well. Loss function depends on the problem at hand. Mean squared error is a common loss function and will optimize for predicting the mean, as is done in least squares regression.\n",
        "\n",
        "Mean absolute error optimizes for the median and is used in quantile regression. For this dataset, 'mean_absolute_error' works pretty well, so use it as your loss function."
      ],
      "metadata": {
        "id": "Va2p31fo0fkO"
      }
    },
    {
      "cell_type": "code",
      "source": [
        "# Compile the model\n",
        "model.compile(optimizer='adam', loss='mean_absolute_error')"
      ],
      "metadata": {
        "id": "SR-CuiYe0o8r"
      },
      "execution_count": null,
      "outputs": []
    },
    {
      "cell_type": "markdown",
      "source": [
        "### ***Visualize a model***\n",
        "Now that you've compiled the model, take a look a the result of your hard work! You can do this by looking at the model summary, as well as its plot.\n",
        "\n",
        "The summary will tell you the names of the layers, as well as how many units they have and how many parameters are in the model.\n",
        "\n",
        "The plot will show how the layers connect to each other.\n",
        "\n",
        "\n",
        "![image.png](data:image/png;base64,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)\n",
        "\n"
      ],
      "metadata": {
        "id": "AGPFBBjZ1BpE"
      }
    },
    {
      "cell_type": "code",
      "source": [
        "# Import the plotting function\n",
        "from keras.utils import plot_model\n",
        "import matplotlib.pyplot as plt\n",
        "\n",
        "# Summarize the model\n",
        "model.summary()\n",
        "\n",
        "# Plot the model\n",
        "plot_model(model, to_file='model.png')\n",
        "\n",
        "# Display the image\n",
        "data = plt.imread('model.png')\n",
        "plt.imshow(data)\n",
        "plt.show()"
      ],
      "metadata": {
        "id": "b11qckyg1EYj"
      },
      "execution_count": null,
      "outputs": []
    },
    {
      "cell_type": "markdown",
      "source": [
        "### ***Fit the model to the tournament basketball data***\n",
        "Now that the model is compiled, you are ready to fit it to some data!\n",
        "\n",
        "In this exercise, you'll use a dataset of scores from US College Basketball tournament games. Each row of the dataset has the team ids: team_1 and team_2, as integers. It also has the seed difference between the teams (seeds are assigned by the tournament committee and represent a ranking of how strong the teams are) and the score difference of the game (e.g. if team_1 wins by 5 points, the score difference is 5).\n",
        "\n",
        "To fit the model, you provide a matrix of X variables (in this case one column: the seed difference) and a matrix of Y variables (in this case one column: the score difference).\n",
        "\n",
        "The games_tourney DataFrame along with the compiled model object is available in your workspace."
      ],
      "metadata": {
        "id": "kbtHT3hU2fcG"
      }
    },
    {
      "cell_type": "code",
      "source": [
        "# Now fit the model\n",
        "model.fit(games_tourney_train['seed_diff'], games_tourney_train['score_diff'],\n",
        "          epochs=1,\n",
        "          batch_size=128,\n",
        "          validation_split=0.1,\n",
        "          verbose=True)"
      ],
      "metadata": {
        "id": "FGhCRRjE2qyX"
      },
      "execution_count": null,
      "outputs": []
    },
    {
      "cell_type": "markdown",
      "source": [
        "### ***Evaluate the model on a test set***\n",
        "After fitting the model, you can evaluate it on new data. You will give the model a new X matrix (also called test data), allow it to make predictions, and then compare to the known y variable (also called target data).\n",
        "\n",
        "In this case, you'll use data from the post-season tournament to evaluate your model. The tournament games happen after the regular season games you used to train our model, and are therefore a good evaluation of how well your model performs out-of-sample.\n",
        "\n",
        "The games_tourney_test DataFrame along with the fitted model object is available in your workspace."
      ],
      "metadata": {
        "id": "Tv8oE2ZK25yO"
      }
    },
    {
      "cell_type": "code",
      "source": [
        "# Load the X variable from the test data\n",
        "X_test = games_tourney_test['seed_diff']\n",
        "\n",
        "# Load the y variable from the test data\n",
        "y_test = games_tourney_test['score_diff']\n",
        "\n",
        "# Evaluate the model on the test data\n",
        "print(model.evaluate(X_test, y_test, verbose=False))"
      ],
      "metadata": {
        "id": "OZDbfJnz26c5"
      },
      "execution_count": null,
      "outputs": []
    },
    {
      "cell_type": "markdown",
      "source": [
        "### ***fine team lookup***\n",
        "Shared layers allow a model to use the same weight matrix for multiple steps. In this exercise, you will build a \"team strength\" layer that represents each team by a single number. You will use this number for both teams in the model. The model will learn a number for each team that works well both when the team is team_1 and when the team is team_2 in the input data.\n",
        "\n",
        "The games_season DataFrame is available in your workspace."
      ],
      "metadata": {
        "id": "MrA2dY223m7a"
      }
    },
    {
      "cell_type": "code",
      "source": [
        "# Imports\n",
        "from keras.layers import Embedding\n",
        "from numpy import unique\n",
        "\n",
        "# Count the unique number of teams\n",
        "n_teams = unique(games_season['team_1']).shape[0]\n",
        "\n",
        "# Create an embedding layer\n",
        "team_lookup = Embedding(input_dim=n_teams,\n",
        "                        output_dim=1,\n",
        "                        input_length=1,\n",
        "                        name='Team-Strength')"
      ],
      "metadata": {
        "id": "CWs8R9BH7bCj"
      },
      "execution_count": null,
      "outputs": []
    },
    {
      "cell_type": "markdown",
      "source": [
        "### ***Define team model***\n",
        "The team strength lookup has three components: an input, an embedding layer, and a flatten layer that creates the output.\n",
        "\n",
        "If you wrap these three layers in a model with an input and output, you can re-use that stack of three layers at multiple places.\n",
        "\n",
        "Note again that the weights for all three layers will be shared everywhere we use them."
      ],
      "metadata": {
        "id": "cMfLf36y8LoM"
      }
    },
    {
      "cell_type": "code",
      "source": [
        "# Imports\n",
        "from keras.layers import Input, Embedding, Flatten\n",
        "from keras.models import Model\n",
        "\n",
        "# Create an input layer for the team ID\n",
        "teamid_in = Input(shape=(1,))\n",
        "\n",
        "# Lookup the input in the team strength embedding layer\n",
        "strength_lookup = team_lookup(teamid_in)\n",
        "\n",
        "# Flatten the output\n",
        "strength_lookup_flat = Flatten()(strength_lookup)\n",
        "\n",
        "# Combine the operations into a single, re-usable model\n",
        "team_strength_model = Model(teamid_in, strength_lookup_flat, name='Team-Strength-Model')"
      ],
      "metadata": {
        "id": "TLTBOsY78u0M"
      },
      "execution_count": null,
      "outputs": []
    },
    {
      "cell_type": "markdown",
      "source": [
        "### ***Defining two inputs***\n",
        "In this exercise, you will define two input layers for the two teams in your model. This allows you to specify later in the model how the data from each team will be used differently."
      ],
      "metadata": {
        "id": "BQQ1EQT28vqU"
      }
    },
    {
      "cell_type": "code",
      "source": [
        "# Load the input layer from keras.layers\n",
        "from keras.layers import Input\n",
        "\n",
        "# Input layer for team 1\n",
        "team_in_1 = Input(shape=(1,),name='Team-1-In')\n",
        "\n",
        "# Separate input layer for team 2\n",
        "team_in_2 = Input(shape=(1,),name='Team-2-In')"
      ],
      "metadata": {
        "id": "k04ZGnzV_KeQ"
      },
      "execution_count": null,
      "outputs": []
    },
    {
      "cell_type": "markdown",
      "source": [
        "### ***Lookup both inputs in the same model***\n",
        "Now that you have a team strength model and an input layer for each team, you can lookup the team inputs in the shared team strength model. The two inputs will share the same weights.\n",
        "\n",
        "In this dataset, you have 10,888 unique teams. You want to learn a strength rating for each team, such that if any pair of teams plays each other, you can predict the score, even if those two teams have never played before. Furthermore, you want the strength rating to be the same, regardless of whether the team is the home team or the away team.\n",
        "\n",
        "To achieve this, you use a shared layer, defined by the re-usable model (team_strength_model()) you built in exercise 3 and the two input layers (team_in_1 and team_in_2) from the previous exercise, all of which are available in your workspace."
      ],
      "metadata": {
        "id": "jnM9oL5aHHYH"
      }
    },
    {
      "cell_type": "code",
      "source": [
        "# Lookup team 1 in the team strength model\n",
        "team_1_strength = team_strength_model(team_in_1)\n",
        "\n",
        "# Lookup team 2 in the team strength model\n",
        "team_2_strength = team_strength_model(team_in_1)"
      ],
      "metadata": {
        "id": "Zw_8I6svHK8U"
      },
      "execution_count": null,
      "outputs": []
    },
    {
      "cell_type": "markdown",
      "source": [
        "### ***Output layer using shared layer***\n",
        "Now that you've looked up how \"strong\" each team is, subtract the team strengths to determine which team is expected to win the game.\n",
        "\n",
        "This is a bit like the seeds that the tournament committee uses, which are also a measure of team strength. But rather than using seed differences to predict score differences, you'll use the difference of your own team strength model to predict score differences.\n",
        "\n",
        "The subtract layer will combine the weights from the two layers by subtracting them."
      ],
      "metadata": {
        "id": "YU_wTC-9khAy"
      }
    },
    {
      "cell_type": "code",
      "source": [
        "# Import the Subtract layer from keras\n",
        "from keras.layers import Subtract\n",
        "\n",
        "# Create a subtract layer using the inputs from the previous exercise\n",
        "score_diff = Subtract()([team_1_strength, team_2_strength])"
      ],
      "metadata": {
        "id": "3dv_NYXMkinC"
      },
      "execution_count": null,
      "outputs": []
    },
    {
      "cell_type": "markdown",
      "source": [
        "### ***Model using two inputs and one output***\n",
        "Now that you have your two inputs (team id 1 and team id 2) and output (score difference), you can wrap them up in a model so you can use it later for fitting to data and evaluating on new data.\n",
        "\n",
        "Your model will look like the following diagram:\n",
        "\n",
        "![image.png](data:image/png;base64,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)"
      ],
      "metadata": {
        "id": "iUGMnYIHkvkc"
      }
    },
    {
      "cell_type": "code",
      "source": [
        "# Imports\n",
        "from keras.layers import Subtract\n",
        "from keras.models import Model\n",
        "\n",
        "# Subtraction layer from previous exercise\n",
        "score_diff = Subtract()([team_1_strength, team_2_strength])\n",
        "\n",
        "# Create the model\n",
        "model = Model([team_in_1, team_in_2], score_diff)\n",
        "\n",
        "# Compile the model\n",
        "model.compile(optimizer='adam',loss='mean_absolute_error')"
      ],
      "metadata": {
        "id": "JSlRnqFpk18v"
      },
      "execution_count": null,
      "outputs": []
    },
    {
      "cell_type": "markdown",
      "source": [
        "### ***Fit the model to the regular season training data***\n",
        "Now that you've defined a complete team strength model, you can fit it to the basketball data! Since your model has two inputs now, you need to pass the input data as a list."
      ],
      "metadata": {
        "id": "pTYl5ynLlNdJ"
      }
    },
    {
      "cell_type": "code",
      "source": [
        "# Get the team_1 column from the regular season data\n",
        "input_1 = games_season['team_1']\n",
        "\n",
        "# Get the team_2 column from the regular season data\n",
        "input_2 = games_season['team_2']\n",
        "\n",
        "# Fit the model to input 1 and 2, using score diff as a target\n",
        "model.fit([input_1,\n",
        "          input_2],games_season['score_diff'],\n",
        "          epochs=1,\n",
        "          batch_size=2048,\n",
        "          validation_split=0.1,\n",
        "          verbose=True)"
      ],
      "metadata": {
        "id": "f_J-nQVSlkMS"
      },
      "execution_count": null,
      "outputs": []
    },
    {
      "cell_type": "markdown",
      "source": [
        "### ***Evaluate the model on the tournament test data***\n",
        "The model you fit to the regular season data (model) in the previous exercise and the tournament dataset (games_tourney) are available in your workspace.\n",
        "\n",
        "In this exercise, you will evaluate the model on this new dataset. This evaluation will tell you how well you can predict the tournament games, based on a model trained with the regular season data. This is interesting because many teams play each other in the tournament that did not play in the regular season, so this is a very good check that your model is not overfitting."
      ],
      "metadata": {
        "id": "A5aDoZvOmEx_"
      }
    },
    {
      "cell_type": "code",
      "source": [
        "# Get team_1 from the tournament data\n",
        "input_1 = games_tourney['team_1']\n",
        "\n",
        "# Get team_2 from the tournament data\n",
        "input_2 = games_tourney['team_2']\n",
        "\n",
        "# Evaluate the model using these inputs\n",
        "print(model.evaluate([input_1, input_2], games_tourney['score_diff'], verbose=False))"
      ],
      "metadata": {
        "id": "sXMGAYWymHut"
      },
      "execution_count": null,
      "outputs": []
    },
    {
      "cell_type": "markdown",
      "source": [
        "### ***Make an input layer for home vs. away***\n",
        "Now you will make an improvement to the model you used in the previous chapter for regular season games. You know there is a well-documented home-team advantage in basketball, so you will add a new input to your model to capture this effect.\n",
        "\n",
        "This model will have three inputs: team_id_1, team_id_2, and home. The team IDs will be integers that you look up in your team strength model from the previous chapter, and home will be a binary variable, 1 if team_1 is playing at home, 0 if they are not.\n",
        "\n",
        "The team_strength_model you used in the previous chapter has been loaded into your workspace. After applying it to each input, use a Concatenate layer to join the two team strengths and with the home vs away variable, and pass the result to a Dense layer"
      ],
      "metadata": {
        "id": "qrdqbrdgmTma"
      }
    },
    {
      "cell_type": "code",
      "source": [
        "# Create an Input for each team\n",
        "team_in_1 = Input(shape=(1,), name='Team-1-In')\n",
        "team_in_2 = Input(shape=(1,), name='Team-2-In')\n",
        "\n",
        "# Create an input for home vs away\n",
        "home_in = Input(shape=(1,), name='Home-In')\n",
        "\n",
        "# Lookup the team inputs in the team strength model\n",
        "team_1_strength = team_strength_model(team_in_1)\n",
        "team_2_strength = team_strength_model(team_in_2)\n",
        "\n",
        "# Combine the team strengths with the home input using a Concatenate layer, then add a Dense layer\n",
        "out = Concatenate()([team_1_strength, team_2_strength, home_in])\n",
        "out = Dense(1)(out)"
      ],
      "metadata": {
        "id": "M6uGBc7Snjma"
      },
      "execution_count": null,
      "outputs": []
    },
    {
      "cell_type": "markdown",
      "source": [
        "### ***Make a model and compile it***\n",
        "Now that you've input and output layers for the 3-input model, wrap them up in a Keras model class, and then compile the model, so you can fit it to data and use it to make predictions on new data."
      ],
      "metadata": {
        "id": "RNmHJkE7o-Qe"
      }
    },
    {
      "cell_type": "code",
      "source": [
        "# Import the model class\n",
        "from keras.models import Model\n",
        "\n",
        "# Make a Model\n",
        "model = Model([team_in_1, team_in_2, home_in], out)\n",
        "\n",
        "# Compile the model\n",
        "model.compile(optimizer=\"adam\", loss=\"mean_absolute_error\")"
      ],
      "metadata": {
        "id": "ufLomW0UpA3w"
      },
      "execution_count": null,
      "outputs": []
    },
    {
      "cell_type": "markdown",
      "source": [
        "### ***Fit the model and evaluate***\n",
        "Now that you've defined a new model, fit it to the regular season basketball data.\n",
        "\n",
        "Use the model you fit in the previous exercise (which was trained on the regular season data) and evaluate the model on data for tournament games (games_tourney)."
      ],
      "metadata": {
        "id": "A5NzxEAopNNk"
      }
    },
    {
      "cell_type": "code",
      "source": [
        "# Fit the model to the games_season dataset\n",
        "model.fit([games_season['team_1'], games_season['team_2'], games_season['home']],\n",
        "          games_season['score_diff'],\n",
        "          epochs=1,\n",
        "          verbose=True,\n",
        "          validation_split=.10,\n",
        "          batch_size=2048)\n",
        "\n",
        "# Evaluate the model on the games_tourney dataset\n",
        "print(model.evaluate([games_tourney['team_1'], games_tourney['team_2'], games_tourney['home']],\n",
        "               games_tourney['score_diff'], verbose=False))"
      ],
      "metadata": {
        "id": "VjgvzeeppQFK"
      },
      "execution_count": null,
      "outputs": []
    },
    {
      "cell_type": "markdown",
      "source": [
        "### ***Plotting models***\n",
        "In addition to summarizing your model, you can also plot your model to get a more intuitive sense of it. Your model is available in the workspace."
      ],
      "metadata": {
        "id": "UJs4zMwZqH2d"
      }
    },
    {
      "cell_type": "code",
      "source": [
        "# Imports\n",
        "import matplotlib.pyplot as plt\n",
        "from keras.utils import plot_model\n",
        "\n",
        "# Plot the model\n",
        "plot_model(model, to_file='model.png')\n",
        "\n",
        "# Display the image\n",
        "data = plt.imread('model.png')\n",
        "plt.imshow(data)\n",
        "plt.show()"
      ],
      "metadata": {
        "id": "E5FJFzAnsKAa"
      },
      "execution_count": null,
      "outputs": []
    },
    {
      "cell_type": "markdown",
      "source": [
        "### ***Add the model predictions to the tournament data***\n",
        "In lesson 1 of this chapter, you used the regular season model to make predictions on the tournament dataset, and got pretty good results! Try to improve your predictions for the tournament by modeling it specifically.\n",
        "\n",
        "You'll use the prediction from the regular season model as an input to the tournament model. This is a form of \"model stacking.\"\n",
        "\n",
        "To start, take the regular season model from the previous lesson, and predict on the tournament data. Add this prediction to the tournament data as a new column."
      ],
      "metadata": {
        "id": "qETJFi9AsqDE"
      }
    },
    {
      "cell_type": "code",
      "source": [
        "# Predict\n",
        "games_tourney['pred'] = model.predict([games_tourney['team_1'],\n",
        "                                             games_tourney['team_2'],\n",
        "                                             games_tourney['home']])"
      ],
      "metadata": {
        "id": "tG6gYxnGsr-O"
      },
      "execution_count": null,
      "outputs": []
    },
    {
      "cell_type": "markdown",
      "source": [
        "### ***Create an input layer with multiple columns***\n",
        "In this exercise, you will look at a different way to create models with multiple inputs. This method only works for purely numeric data, but its a much simpler approach to making multi-variate neural networks.\n",
        "\n",
        "Now you have three numeric columns in the tournament dataset: 'seed_diff', 'home', and 'pred'. In this exercise, you will create a neural network that uses a single input layer to process all three of these numeric inputs.\n",
        "\n",
        "This model should have a single output to predict the tournament game score difference."
      ],
      "metadata": {
        "id": "AIf36OASs2BM"
      }
    },
    {
      "cell_type": "code",
      "source": [
        "# Create an input layer with 3 columns\n",
        "input_tensor = Input((3,))\n",
        "\n",
        "# Pass it to a Dense layer with 1 unit\n",
        "output_tensor = Dense(1)(input_tensor)\n",
        "\n",
        "# Create a model\n",
        "model = Model(input_tensor, output_tensor)\n",
        "\n",
        "# Compile the model\n",
        "model.compile(optimizer='adam', loss='mean_absolute_error')"
      ],
      "metadata": {
        "id": "H7pmEkIJuNVP"
      },
      "execution_count": null,
      "outputs": []
    },
    {
      "cell_type": "markdown",
      "source": [
        "### ***Fit the model***\n",
        "Now that you've enriched the tournament dataset and built a model to make use of the new data, fit that model to the tournament data.\n",
        "\n",
        "Note that this model has only one input layer that is capable of handling all 3 inputs, so it's inputs and outputs do not need to be a list.\n",
        "\n",
        "Tournament games are split into a training set and a test set. The tournament games before 2010 are in the training set, and the ones after 2010 are in the test set."
      ],
      "metadata": {
        "id": "b5WbQmXMuRwu"
      }
    },
    {
      "cell_type": "code",
      "source": [
        "# Fit the model\n",
        "model.fit(games_tourney_train[['home', 'seed_diff', 'pred']],\n",
        "          games_tourney_train['score_diff'],\n",
        "          epochs=1,\n",
        "          verbose=True)"
      ],
      "metadata": {
        "id": "DmpaGw8XuVcq"
      },
      "execution_count": null,
      "outputs": []
    },
    {
      "cell_type": "markdown",
      "source": [
        "### ***Evaluate the model***\n",
        "Now that you've fit your model to the tournament training data, evaluate it on the tournament test data. Recall that the tournament test data contains games from after 2010."
      ],
      "metadata": {
        "id": "XrTEOiEKufZB"
      }
    },
    {
      "cell_type": "code",
      "source": [
        "# Evaluate the model on the games_tourney_test dataset\n",
        "print(model.evaluate(games_tourney_test[['home', 'seed_diff','prediction']],\n",
        "               games_tourney_test['score_diff'], verbose=False))"
      ],
      "metadata": {
        "id": "SsJNV_UxukQZ"
      },
      "execution_count": null,
      "outputs": []
    },
    {
      "cell_type": "markdown",
      "source": [
        "### ***Simple two-output model***\n",
        "In this exercise, you will use the tournament data to build one model that makes two predictions: the scores of both teams in a given game. Your inputs will be the seed difference of the two teams, as well as the predicted score difference from the model you built in chapter 3.\n",
        "\n",
        "The output from your model will be the predicted score for team 1 as well as team 2. This is called \"multiple target regression\": one model making more than one prediction."
      ],
      "metadata": {
        "id": "zmmGtoHAu8NE"
      }
    },
    {
      "cell_type": "code",
      "source": [
        "# Define the input\n",
        "input_tensor = Input((2,))\n",
        "\n",
        "# Define the output\n",
        "output_tensor = Dense(2)(input_tensor)\n",
        "\n",
        "# Create a model\n",
        "model = Model(input_tensor,output_tensor)\n",
        "\n",
        "# Compile the model\n",
        "model.compile(optimizer='adam',loss='mean_absolute_error')"
      ],
      "metadata": {
        "id": "pT9BqO6hwQB5"
      },
      "execution_count": null,
      "outputs": []
    },
    {
      "cell_type": "markdown",
      "source": [
        "### ***Fit a model with two outputs***\n",
        "Now that you've defined your 2-output model, fit it to the tournament data. I've split the data into games_tourney_train and games_tourney_test, so use the training set to fit for now.\n",
        "\n",
        "This model will use the pre-tournament seeds, as well as your pre-tournament predictions from the regular season model you built previously in this course.\n",
        "\n",
        "As a reminder, this model will predict the scores of both teams."
      ],
      "metadata": {
        "id": "6hYmvhDQwou0"
      }
    },
    {
      "cell_type": "code",
      "source": [
        "# Fit the model\n",
        "model.fit(games_tourney_train[['seed_diff', 'pred']],\n",
        "  \t\t  games_tourney_train[['score_1','score_2']],\n",
        "  \t\t  verbose=True,\n",
        "  \t\t  epochs=100,\n",
        "  \t\t  batch_size=16384)"
      ],
      "metadata": {
        "id": "-1gR9NxXwsXe"
      },
      "execution_count": null,
      "outputs": []
    },
    {
      "cell_type": "markdown",
      "source": [
        "### ***Inspect the model (I)***\n",
        "Now that you've fit your model, let's take a look at it. You can use the .get_weights() method to inspect your model's weights.\n",
        "\n",
        "The input layer will have 4 weights: 2 for each input times 2 for each output.\n",
        "\n",
        "The output layer will have 2 weights, one for each output."
      ],
      "metadata": {
        "id": "6nraMNvgxAUn"
      }
    },
    {
      "cell_type": "code",
      "source": [
        "# Print the model's weights\n",
        "print(model.get_weights())\n",
        "\n",
        "# Print the column means of the training data\n",
        "print(games_tourney_train[['seed_diff', 'pred']].mean())"
      ],
      "metadata": {
        "id": "rnVq8UiBxE-U"
      },
      "execution_count": null,
      "outputs": []
    },
    {
      "cell_type": "markdown",
      "source": [
        "### ***Evaluate the model***\n",
        "Now that you've fit your model and inspected it's weights to make sure it makes sense, evaluate it on the tournament test set to see how well it performs on new data."
      ],
      "metadata": {
        "id": "8TXB1iCmxf6o"
      }
    },
    {
      "cell_type": "code",
      "source": [
        "# Evaluate the model on the tournament test data\n",
        "print(model.evaluate(games_tourney_test[['seed_diff', 'pred']],\n",
        "  \t\t  games_tourney_test[['score_1','score_2']], verbose=False))"
      ],
      "metadata": {
        "id": "y0CfjAlvx8r_"
      },
      "execution_count": null,
      "outputs": []
    },
    {
      "cell_type": "markdown",
      "source": [
        "### ***Classification and regression in one model***\n",
        "Now you will create a different kind of 2-output model. This time, you will predict the score difference, instead of both team's scores and then you will predict the probability that team 1 won the game. This is a pretty cool model: it is going to do both classification and regression!\n",
        "\n",
        "In this model, turn off the bias, or intercept for each layer. Your inputs (seed difference and predicted score difference) have a mean of very close to zero, and your outputs both have means that are close to zero, so your model shouldn't need the bias term to fit the data well."
      ],
      "metadata": {
        "id": "ZWx6G_9Kx9MB"
      }
    },
    {
      "cell_type": "code",
      "source": [
        "# Create an input layer with 2 columns\n",
        "input_tensor = Input((2,))\n",
        "\n",
        "# Create the first output\n",
        "output_tensor_1 = Dense(1, activation='linear', use_bias=False)(input_tensor)\n",
        "\n",
        "# Create the second output (use the first output as input here)\n",
        "output_tensor_2 = Dense(1, activation='sigmoid', use_bias=False)(output_tensor_1)\n",
        "\n",
        "# Create a model with 2 outputs\n",
        "model = Model(input_tensor, [output_tensor_1, output_tensor_2])"
      ],
      "metadata": {
        "id": "f_I7d6eI0zol"
      },
      "execution_count": null,
      "outputs": []
    },
    {
      "cell_type": "markdown",
      "source": [
        "### ***Compile and fit the model***\n",
        "Now that you have a model with 2 outputs, compile it with 2 loss functions: mean absolute error (MAE) for 'score_diff' and binary cross-entropy (also known as logloss) for 'won'. Then fit the model with 'seed_diff' and 'pred' as inputs. For outputs, predict 'score_diff' and 'won'.\n",
        "\n",
        "This model can use the scores of the games to make sure that close games (small score diff) have lower win probabilities than blowouts (large score diff).\n",
        "\n",
        "The regression problem is easier than the classification problem because MAE punishes the model less for a loss due to random chance. For example, if score_diff is -1 and won is 0, that means team_1 had some bad luck and lost by a single free throw. The data for the easy problem helps the model find a solution to the hard problem."
      ],
      "metadata": {
        "id": "sKnIyeBL00UI"
      }
    },
    {
      "cell_type": "code",
      "source": [
        "# Import the Adam optimizer\n",
        "from keras.optimizers import Adam\n",
        "\n",
        "# Compile the model with 2 losses and the Adam optimzer with a higher learning rate\n",
        "model.compile(loss=['mean_absolute_error', 'binary_crossentropy'], optimizer=Adam(lr=0.01))\n",
        "\n",
        "# Fit the model to the tournament training data, with 2 inputs and 2 outputs\n",
        "model.fit(games_tourney_train[['seed_diff', 'pred']],\n",
        "          [games_tourney_train[['score_diff']], games_tourney_train[['won']]],\n",
        "          epochs=10,\n",
        "          verbose=True,\n",
        "          batch_size=16384)"
      ],
      "metadata": {
        "id": "NTo25Gm103-s"
      },
      "execution_count": null,
      "outputs": []
    },
    {
      "cell_type": "markdown",
      "source": [
        "### ***Inspect the model (II)***\n",
        "Now you should take a look at the weights for this model. In particular, note the last weight of the model. This weight converts the predicted score difference to a predicted win probability. If you multiply the predicted score difference by the last weight of the model and then apply the sigmoid function, you get the win probability of the game."
      ],
      "metadata": {
        "id": "2QlsGdKt1W0t"
      }
    },
    {
      "cell_type": "code",
      "source": [
        "# Print the model's weights\n",
        "print(model.get_weights())\n",
        "\n",
        "# Print the column means of the training data\n",
        "print(games_tourney_train[['seed_diff', 'pred']].mean())\n",
        "\n",
        "# Import the sigmoid function from scipy\n",
        "from scipy.special import expit as sigmoid\n",
        "\n",
        "# Weight from the model\n",
        "weight = 0.14\n",
        "\n",
        "# Print the approximate win probability predicted close game\n",
        "print(sigmoid(1 * weight))\n",
        "\n",
        "# Print the approximate win probability predicted blowout game\n",
        "print(sigmoid(10 * weight))"
      ],
      "metadata": {
        "id": "SL3SWxgh1aJu"
      },
      "execution_count": null,
      "outputs": []
    },
    {
      "cell_type": "markdown",
      "source": [
        "### ***Evaluate on new data with two metrics***\n",
        "Now that you've fit your model and inspected its weights to make sure they make sense, evaluate your model on the tournament test set to see how well it does on new data.\n",
        "\n",
        "Note that in this case, Keras will return 3 numbers: the first number will be the sum of both the loss functions, and then the next 2 numbers will be the loss functions you used when defining the model.\n",
        "\n",
        "Ready to take your deep learning to the next level? Check out \"[Convolutional Neural Networks for Image Processing](https://app.datacamp.com/learn/courses/convolutional-neural-networks-for-image-processing)\"."
      ],
      "metadata": {
        "id": "0uOgr7QR1jMR"
      }
    },
    {
      "cell_type": "code",
      "source": [
        ""
      ],
      "metadata": {
        "id": "zBqqSjkH100w"
      },
      "execution_count": null,
      "outputs": []
    }
  ]
}