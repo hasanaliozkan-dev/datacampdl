{
  "nbformat": 4,
  "nbformat_minor": 0,
  "metadata": {
    "colab": {
      "name": "DataCampLesson2.ipynb",
      "provenance": [],
      "collapsed_sections": [],
      "authorship_tag": "ABX9TyNo3Jwte+xRbdXmUGA4sElZ",
      "include_colab_link": true
    },
    "kernelspec": {
      "name": "python3",
      "display_name": "Python 3"
    },
    "language_info": {
      "name": "python"
    }
  },
  "cells": [
    {
      "cell_type": "markdown",
      "metadata": {
        "id": "view-in-github",
        "colab_type": "text"
      },
      "source": [
        "<a href=\"https://colab.research.google.com/github/hasanaliozkan-dev/datacampdl/blob/main/DataCampLesson2.ipynb\" target=\"_parent\"><img src=\"https://colab.research.google.com/assets/colab-badge.svg\" alt=\"Open In Colab\"/></a>"
      ]
    },
    {
      "cell_type": "markdown",
      "source": [
        "### ***Compiling the model***\n",
        "You're now going to compile the model you specified earlier. To compile the model, you need to specify the optimizer and loss function to use. In the video, Dan mentioned that the Adam optimizer is an excellent choice. You can read more about it as well as other Keras optimizers here, and if you are really curious to learn more, you can read the original paper that introduced the Adam optimizer.\n",
        "\n",
        "In this exercise, you'll use the Adam optimizer and the mean squared error loss function. Go for it!\n",
        "\n",
        "### ***Fitting the model***\n",
        "You're at the most fun part. You'll now fit the model. Recall that the data to be used as predictive features is loaded in a NumPy matrix called predictors and the data to be predicted is stored in a NumPy matrix called target. Your model is pre-written and it has been compiled with the code from the previous exercise."
      ],
      "metadata": {
        "id": "wQdP9ETiCnCy"
      }
    },
    {
      "cell_type": "code",
      "execution_count": null,
      "metadata": {
        "id": "af0d5k-jCgPr"
      },
      "outputs": [],
      "source": [
        "# Import necessary modules\n",
        "import keras\n",
        "from keras.layers import Dense\n",
        "from keras.models import Sequential\n",
        "\n",
        "# Specify the model\n",
        "n_cols = predictors.shape[1]\n",
        "model = Sequential()\n",
        "model.add(Dense(50, activation='relu', input_shape = (n_cols,)))\n",
        "model.add(Dense(32, activation='relu'))\n",
        "model.add(Dense(1))\n",
        "\n",
        "# Compile the model\n",
        "model.compile(optimizer = 'adam',loss = 'mean_squared_error')\n",
        "\n",
        "# Fit the model\n",
        "model.fit(predictors,target)\n",
        "\n",
        "# Verify that model contains information from compiling\n",
        "print(\"Loss function: \" + model.loss)"
      ]
    },
    {
      "cell_type": "markdown",
      "source": [
        "### ***Last steps in classification models***\n",
        "You'll now create a classification model using the titanic dataset, which has been pre-loaded into a DataFrame called df. You'll take information about the passengers and predict which ones survived.\n",
        "\n",
        "The predictive variables are stored in a NumPy array predictors. The target to predict is in df.survived, though you'll have to manipulate it for Keras. The number of predictive features is stored in n_cols.\n",
        "\n",
        "Here, you'll use the 'sgd' optimizer, which stands for Stochastic Gradient Descent. You'll learn more about this in the next chapter!"
      ],
      "metadata": {
        "id": "ql0_FuXfGl0b"
      }
    },
    {
      "cell_type": "code",
      "source": [
        "# Import necessary modules\n",
        "import keras\n",
        "from keras.layers import Dense\n",
        "from keras.models import Sequential\n",
        "from keras.utils import to_categorical\n",
        "\n",
        "# Convert the target to categorical: target\n",
        "target = to_categorical(df.survived)\n",
        "\n",
        "# Set up the model\n",
        "model = Sequential()\n",
        "\n",
        "# Add the first layer\n",
        "model.add(Dense(32,activation='relu',input_shape=(n_cols,)))\n",
        "# Add the output layer\n",
        "model.add(Dense(2,activation='softmax'))\n",
        "\n",
        "# Compile the model\n",
        "model.compile(optimizer='sgd',loss='categorical_crossentropy',metrics=['accuracy'])\n",
        "\n",
        "# Fit the model\n",
        "model.fit(predictors,target)\n"
      ],
      "metadata": {
        "id": "RcQUo6zHDLpB"
      },
      "execution_count": null,
      "outputs": []
    },
    {
      "cell_type": "markdown",
      "source": [
        "### ***Making predictions***\n",
        "The trained network from your previous coding exercise is now stored as model. New data to make predictions is stored in a NumPy array as pred_data. Use model to make predictions on your new data.\n",
        "\n",
        "In this exercise, your predictions will be probabilities, which is the most common way for data scientists to communicate their predictions to colleagues."
      ],
      "metadata": {
        "id": "VtMIGY31KCVi"
      }
    },
    {
      "cell_type": "code",
      "source": [
        "# Specify, compile, and fit the model\n",
        "model = Sequential()\n",
        "model.add(Dense(32, activation='relu', input_shape = (n_cols,)))\n",
        "model.add(Dense(2, activation='softmax'))\n",
        "model.compile(optimizer='sgd', \n",
        "              loss='categorical_crossentropy', \n",
        "              metrics=['accuracy'])\n",
        "model.fit(predictors, target)\n",
        "\n",
        "# Calculate predictions: predictions\n",
        "predictions = model.predict(pred_data)\n",
        "\n",
        "# Calculate predicted probability of survival: predicted_prob_true\n",
        "predicted_prob_true = predictions[:,1]\n",
        "\n",
        "# print predicted_prob_true\n",
        "print(predicted_prob_true)"
      ],
      "metadata": {
        "id": "QgCUc2GxKBwx"
      },
      "execution_count": null,
      "outputs": []
    },
    {
      "cell_type": "markdown",
      "source": [
        "### ***Changing optimization parameters***\n",
        "It's time to get your hands dirty with optimization. You'll now try optimizing a model at a very low learning rate, a very high learning rate, and a \"just right\" learning rate. You'll want to look at the results after running this exercise, remembering that a low value for the loss function is good.\n",
        "\n",
        "For these exercises, we've pre-loaded the predictors and target values from your previous classification models (predicting who would survive on the Titanic). You'll want the optimization to start from scratch every time you change the learning rate, to give a fair comparison of how each learning rate did in your results. So we have created a function get_new_model() that creates an unoptimized model to optimize."
      ],
      "metadata": {
        "id": "PwgO9KAEM87J"
      }
    },
    {
      "cell_type": "code",
      "source": [
        "def get_new_model(input_shape=input_shape):\n",
        "  model =Sequential()\n",
        "  model.add(Dense(100,activation='relu',input_shape=input_shape))\n",
        "  model.add(Dense(100,activation='relu'))\n",
        "  model.add(Dense(2,activation='softmax'))\n",
        "  return model\n",
        "  \n",
        "\n",
        "\n",
        "\n",
        "# Import the SGD optimizer\n",
        "from keras.optimizers import SGD\n",
        "\n",
        "# Create list of learning rates: lr_to_test\n",
        "lr_to_test = [.000001,0.01,1]\n",
        "\n",
        "# Loop over learning rates\n",
        "for lr in lr_to_test:\n",
        "    print('\\n\\nTesting model with learning rate: %f\\n'%lr )\n",
        "    \n",
        "    # Build new model to test, unaffected by previous models\n",
        "    model = get_new_model()\n",
        "    \n",
        "    # Create SGD optimizer with specified learning rate: my_optimizer\n",
        "    my_optimizer = SGD(lr=lr)\n",
        "    \n",
        "    # Compile the model\n",
        "    model.compile(optimizer= my_optimizer,loss= 'categorical_crossentropy')\n",
        "    \n",
        "    # Fit the model\n",
        "    model.fit(predictors,target)\n",
        "    "
      ],
      "metadata": {
        "id": "jTQ9Mz6AKFfT"
      },
      "execution_count": null,
      "outputs": []
    },
    {
      "cell_type": "markdown",
      "source": [
        "### ***Evaluating model accuracy on validation dataset***\n",
        "Now it's your turn to monitor model accuracy with a validation data set. A model definition has been provided as model. Your job is to add the code to compile it and then fit it. You'll check the validation score in each epoch."
      ],
      "metadata": {
        "id": "J1Y1LAnKPpLO"
      }
    },
    {
      "cell_type": "code",
      "source": [
        "# Save the number of columns in predictors: n_cols\n",
        "n_cols = predictors.shape[1]\n",
        "input_shape = (n_cols,)\n",
        "\n",
        "# Specify the model\n",
        "model = Sequential()\n",
        "model.add(Dense(100, activation='relu', input_shape = input_shape))\n",
        "model.add(Dense(100, activation='relu'))\n",
        "model.add(Dense(2, activation='softmax'))\n",
        "\n",
        "# Compile the model\n",
        "model.compile(optimizer='adam',loss='categorical_crossentropy',metrics= ['accuracy'])\n",
        "\n",
        "# Fit the model\n",
        "hist = model.fit(predictors,target,validation_split=0.3)"
      ],
      "metadata": {
        "id": "sQFCkcuTPsOt"
      },
      "execution_count": null,
      "outputs": []
    },
    {
      "cell_type": "markdown",
      "source": [
        "### ***Early stopping: Optimizing the optimization***\n",
        "Now that you know how to monitor your model performance throughout optimization, you can use early stopping to stop optimization when it isn't helping any more. Since the optimization stops automatically when it isn't helping, you can also set a high value for epochs in your call to .fit(), as Dan showed in the video.\n",
        "\n",
        "The model you'll optimize has been specified as model. As before, the data is pre-loaded as predictors and target."
      ],
      "metadata": {
        "id": "jbPBdoTkQMMs"
      }
    },
    {
      "cell_type": "code",
      "source": [
        "# Import EarlyStopping\n",
        "from keras.callbacks import EarlyStopping\n",
        "\n",
        "# Save the number of columns in predictors: n_cols\n",
        "n_cols = predictors.shape[1]\n",
        "input_shape = (n_cols,)\n",
        "\n",
        "# Specify the model\n",
        "model = Sequential()\n",
        "model.add(Dense(100, activation='relu', input_shape = input_shape))\n",
        "model.add(Dense(100, activation='relu'))\n",
        "model.add(Dense(2, activation='softmax'))\n",
        "\n",
        "# Compile the model\n",
        "model.compile(optimizer= 'adam', loss = 'categorical_crossentropy', metrics=['accuracy'])\n",
        "\n",
        "# Define early_stopping_monitor\n",
        "early_stopping_monitor = EarlyStopping(patience = 2)\n",
        "\n",
        "# Fit the model\n",
        "model.fit(predictors,target,epochs = 30, validation_split = 0.3, callbacks= [early_stopping_monitor])\n"
      ],
      "metadata": {
        "id": "VfaIiGpJQHSe"
      },
      "execution_count": null,
      "outputs": []
    },
    {
      "cell_type": "markdown",
      "source": [
        "### ***Experimenting with wider networks***\n",
        "Now you know everything you need to begin experimenting with different models!\n",
        "\n",
        "A model called model_1 has been pre-loaded. You can see a summary of this model printed in the IPython Shell. This is a relatively small network, with only 10 units in each hidden layer.\n",
        "\n",
        "In this exercise you'll create a new model called model_2 which is similar to model_1, except it has 100 units in each hidden layer.\n",
        "\n",
        "After you create model_2, both models will be fitted, and a graph showing both models loss score at each epoch will be shown. We added the argument verbose=False in the fitting commands to print out fewer updates, since you will look at these graphically instead of as text.\n",
        "\n",
        "Because you are fitting two models, it will take a moment to see the outputs after you hit run, so be patient."
      ],
      "metadata": {
        "id": "M1UlR9QfR32t"
      }
    },
    {
      "cell_type": "code",
      "source": [
        "# Define early_stopping_monitor\n",
        "early_stopping_monitor = EarlyStopping(patience=2)\n",
        "\n",
        "# Create the new model: model_2\n",
        "model_2 = Sequential()\n",
        "\n",
        "# Add the first and second layers\n",
        "model_2.add(Dense(100, activation='relu', input_shape = input_shape))\n",
        "model_2.add(Dense(100, activation='relu'))\n",
        "\n",
        "\n",
        "# Add the output layer\n",
        "model_2.add(Dense(2, activation='softmax'))\n",
        "\n",
        "# Compile model_2\n",
        "model_2.compile(optimizer= 'adam', loss = 'categorical_crossentropy', metrics=['accuracy'])\n",
        "\n",
        "\n",
        "# Fit model_1\n",
        "model_1_training = model_1.fit(predictors, target, epochs=15, validation_split=0.2, callbacks=[early_stopping_monitor], verbose=False)\n",
        "\n",
        "# Fit model_2\n",
        "model_2_training = model_2.fit(predictors, target, epochs=15, validation_split=0.2, callbacks=[early_stopping_monitor], verbose=False)\n",
        "\n",
        "# Create the plot\n",
        "plt.plot(model_1_training.history['val_loss'], 'r', model_2_training.history['val_loss'], 'b')\n",
        "plt.xlabel('Epochs')\n",
        "plt.ylabel('Validation score')\n",
        "plt.show()\n"
      ],
      "metadata": {
        "id": "AOR21LryR7b4"
      },
      "execution_count": null,
      "outputs": []
    },
    {
      "cell_type": "markdown",
      "source": [
        "### ***Adding layers to a network***\n",
        "You've seen how to experiment with wider networks. In this exercise, you'll try a deeper network (more hidden layers).\n",
        "\n",
        "Once again, you have a baseline model called model_1 as a starting point. It has 1 hidden layer, with 50 units. You can see a summary of that model's structure printed out. You will create a similar network with 3 hidden layers (still keeping 50 units in each layer).\n",
        "\n",
        "This will again take a moment to fit both models, so you'll need to wait a few seconds to see the results after you run your code."
      ],
      "metadata": {
        "id": "bJ_RGLswUhvE"
      }
    },
    {
      "cell_type": "code",
      "source": [
        "# The input shape to use in the first hidden layer\n",
        "input_shape = (n_cols,)\n",
        "\n",
        "# Create the new model: model_2\n",
        "model_2 = Sequential()\n",
        "\n",
        "# Add the first, second, and third hidden layers\n",
        "model_2.add(Dense(50, activation='relu', input_shape = input_shape))\n",
        "model_2.add(Dense(50, activation='relu'))\n",
        "model_2.add(Dense(50, activation='relu'))\n",
        "\n",
        "# Add the output layer\n",
        "model_2.add(Dense(2, activation='softmax'))\n",
        "\n",
        "# Compile model_2\n",
        "model_2.compile(optimizer= 'adam', loss = 'categorical_crossentropy', metrics=['accuracy'])\n",
        "\n",
        "# Fit model 1\n",
        "model_1_training = model_1.fit(predictors, target, epochs=20, validation_split=0.4, callbacks=[early_stopping_monitor], verbose=False)\n",
        "\n",
        "# Fit model 2\n",
        "model_2_training = model_2.fit(predictors, target, epochs=20, validation_split=0.4, callbacks=[early_stopping_monitor], verbose=False)\n",
        "\n",
        "# Create the plot\n",
        "plt.plot(model_1_training.history['val_loss'], 'r', model_2_training.history['val_loss'], 'b')\n",
        "plt.xlabel('Epochs')\n",
        "plt.ylabel('Validation score')\n",
        "plt.show()\n"
      ],
      "metadata": {
        "id": "U0vmBLiGR9rD"
      },
      "execution_count": null,
      "outputs": []
    },
    {
      "cell_type": "markdown",
      "source": [
        "### ***Building your own digit recognition model***\n",
        "You've reached the final exercise of the course - you now know everything you need to build an accurate model to recognize handwritten digits!\n",
        "\n",
        "We've already done the basic manipulation of the MNIST dataset shown in the video, so you have X and y loaded and ready to model with. Sequential and Dense from Keras are also pre-imported.\n",
        "\n",
        "To add an extra challenge, we've loaded only 2500 images, rather than 60000 which you will see in some published results. Deep learning models perform better with more data, however, they also take longer to train, especially when they start becoming more complex.\n",
        "\n",
        "If you have a computer with a CUDA compatible GPU, you can take advantage of it to improve computation time. If you don't have a GPU, no problem! You can set up a deep learning environment in the cloud that can run your models on a GPU. Here is a blog post by Dan that explains how to do this - check it out after completing this exercise! It is a great next step as you continue your deep learning journey.\n",
        "\n",
        "Ready to take your deep learning to the next level? Check out Advanced Deep Learning with Keras to see how the Keras functional API lets you build domain knowledge to solve new types of problems. Once you know how to use the functional API, take a look at Image Processing with Keras in Python to learn image-specific applications of Keras."
      ],
      "metadata": {
        "id": "o70Oh1UEZWZI"
      }
    },
    {
      "cell_type": "code",
      "source": [
        "# Create the model: model\n",
        "model = Sequential()\n",
        "\n",
        "# Add the first hidden layer\n",
        "model.add(Dense(50, activation = 'relu', input_shape=(784,))) # 28x28\n",
        "\n",
        "# Add the second hidden layer\n",
        "model.add(Dense(50, activation = 'relu',)) \n",
        "\n",
        "# Add the output layer\n",
        "model.add(Dense(10, activation = 'softmax',))\n",
        "\n",
        "\n",
        "# Compile the model\n",
        "model.compile(optimizer='adam', loss= 'categorical_crossentropy', metrics=['accuracy'])\n",
        "\n",
        "# Fit the model\n",
        "model.fit(X,y,validation_split=0.3)"
      ],
      "metadata": {
        "id": "rNC64l8iVJ2E"
      },
      "execution_count": null,
      "outputs": []
    }
  ]
}